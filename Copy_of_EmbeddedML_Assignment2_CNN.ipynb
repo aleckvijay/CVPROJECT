{
  "cells": [
    {
      "cell_type": "markdown",
      "metadata": {
        "id": "view-in-github",
        "colab_type": "text"
      },
      "source": [
        "<a href=\"https://colab.research.google.com/github/aleckvijay/CVPROJECT/blob/main/Copy_of_EmbeddedML_Assignment2_CNN.ipynb\" target=\"_parent\"><img src=\"https://colab.research.google.com/assets/colab-badge.svg\" alt=\"Open In Colab\"/></a>"
      ]
    },
    {
      "cell_type": "markdown",
      "source": [
        "\n",
        "\n",
        "---\n",
        "\n",
        "\n",
        "Before starting, you must click on the \"Copy To Drive\" option in the top bar. Go to File --> Save a Copy to Drive. Name it *'LastName_FirstName_Assignment2.ipynb'*. <ins>This is the master notebook so you will not be able to save your changes without copying it !</ins> Once you click on that, make sure you are working on that version of the notebook so that your work is saved.\n",
        "\n",
        "\n",
        "\n",
        "---\n",
        "\n"
      ],
      "metadata": {
        "id": "_a7cato1oHDL"
      }
    },
    {
      "cell_type": "markdown",
      "source": [
        "### In the first section of the assignment, you will design a Convolutional Neural Network (CNN) to classify the Cifar-10 dataset. In the second section, you will design a Bean Disease Classifier to categorize healthy and diseased beans."
      ],
      "metadata": {
        "id": "NlQCkW3z9T9s"
      }
    },
    {
      "cell_type": "markdown",
      "metadata": {
        "id": "iiVBUpuHXEtw"
      },
      "source": [
        "# 1.Create a CNN to classify Cifar-10\n",
        "\n",
        "In the previous assignment you built a CNN that classified 10 different apparel from the Fashion MNIST dataset. For this section, you will use a similar network but there are some key differences you'll need to take into account. Learn about Cifar-10 here: https://www.cs.toronto.edu/~kriz/cifar.html\n"
      ]
    },
    {
      "cell_type": "markdown",
      "source": [
        "---\n",
        "\n",
        "\n",
        "**Question 1**: Can you think of two differences in the model required to classify the Cifar-10 Dataset and the Fashion MNIST Dataset?\n",
        "\n",
        "**Answer:**\n",
        "\n",
        "\n",
        "\n",
        "\n",
        "---\n",
        "\n",
        "\n",
        "\n"
      ],
      "metadata": {
        "id": "fq7d-lj_UuhL"
      }
    },
    {
      "cell_type": "markdown",
      "source": [
        "### Load Dataset\n",
        "\n",
        "We set up the problem by first loading the dataset and splitting into train and test sets."
      ],
      "metadata": {
        "id": "vzhh7OfhV0z3"
      }
    },
    {
      "cell_type": "code",
      "execution_count": 1,
      "metadata": {
        "id": "6OQ_tVTaU3oo",
        "colab": {
          "base_uri": "https://localhost:8080/"
        },
        "outputId": "b38fdb4e-1bae-42fe-ddf9-2eb4b188bb5b"
      },
      "outputs": [
        {
          "output_type": "stream",
          "name": "stdout",
          "text": [
            "Downloading data from https://www.cs.toronto.edu/~kriz/cifar-10-python.tar.gz\n",
            "170498071/170498071 [==============================] - 4s 0us/step\n"
          ]
        }
      ],
      "source": [
        "import tensorflow as tf\n",
        "from tensorflow.keras import datasets, layers, models\n",
        "import matplotlib.pyplot as plt\n",
        "\n",
        "\n",
        "# load the dataset\n",
        "(train_images, train_labels), (test_images, test_labels) = datasets.cifar10.load_data()"
      ]
    },
    {
      "cell_type": "markdown",
      "source": [
        "### Normalize Images"
      ],
      "metadata": {
        "id": "IpVdhYXIdW0m"
      }
    },
    {
      "cell_type": "code",
      "source": [
        "# Normalize pixel values to be between 0 and 1\n",
        "train_images = train_images / 255.0\n",
        "test_images = test_images / 255.0"
      ],
      "metadata": {
        "id": "olCh3eaHdW9S"
      },
      "execution_count": 2,
      "outputs": []
    },
    {
      "cell_type": "markdown",
      "source": [
        "### Visualize Sample Training Examples\n",
        "\n",
        "Explore the images from the Cifar-10 dataset. Could it help you determine the input shape and the layers of the machine learning model?"
      ],
      "metadata": {
        "id": "rrcKwKEsXNKo"
      }
    },
    {
      "cell_type": "markdown",
      "source": [
        "First, print the shape of the training images, training labels, test images and test labels."
      ],
      "metadata": {
        "id": "BaHSNnQPYn3M"
      }
    },
    {
      "cell_type": "code",
      "source": [
        "# TODO - print shapes of train and test sets\n",
        "\n",
        "print(\"Train images shape: \", train_images.shape)\n",
        "print(\"Train labels shape: \", train_labels.shape)\n",
        "print(\"Test images shape: \", test_images.shape)\n",
        "print(\"Test labels shape: \", test_labels.shape)\n"
      ],
      "metadata": {
        "id": "8SHe4Hu3djJj",
        "colab": {
          "base_uri": "https://localhost:8080/"
        },
        "outputId": "b0fd2a5d-d9a6-4562-8d23-e07b0528ec9f"
      },
      "execution_count": 3,
      "outputs": [
        {
          "output_type": "stream",
          "name": "stdout",
          "text": [
            "Train images shape:  (50000, 32, 32, 3)\n",
            "Train labels shape:  (50000, 1)\n",
            "Test images shape:  (10000, 32, 32, 3)\n",
            "Test labels shape:  (10000, 1)\n"
          ]
        }
      ]
    },
    {
      "cell_type": "markdown",
      "source": [
        "---\n",
        "\n",
        "\n",
        "**Question 2:** Plot the first 3 training images along with the training labels.\n",
        "\n",
        "\n",
        "\n",
        "\n",
        "---\n",
        "\n"
      ],
      "metadata": {
        "id": "WeBuU0FueHRy"
      }
    },
    {
      "cell_type": "code",
      "source": [
        "# TODO: plot 1st training example\n",
        "plt.imshow(train_images[0])\n",
        "plt.title(f\"Label: {train_labels[0]}\")\n",
        "plt.show()"
      ],
      "metadata": {
        "id": "_RYGPoX3enLM",
        "colab": {
          "base_uri": "https://localhost:8080/",
          "height": 452
        },
        "outputId": "309b47cc-d64b-4627-d9ee-ec333cfd5edf"
      },
      "execution_count": 5,
      "outputs": [
        {
          "output_type": "display_data",
          "data": {
            "text/plain": [
              "<Figure size 640x480 with 1 Axes>"
            ],
            "image/png": "[encoded data removed]"
          },
          "metadata": {}
        }
      ]
    },
    {
      "cell_type": "code",
      "source": [
        "# TODO: plot 2nd training example\n",
        "plt.imshow(train_images[1])\n",
        "plt.title(f\"Label: {train_labels[1]}\")\n",
        "plt.show()"
      ],
      "metadata": {
        "id": "zLQyKPNRexvZ",
        "colab": {
          "base_uri": "https://localhost:8080/",
          "height": 452
        },
        "outputId": "8351358f-387d-4260-a120-cb1fa4016d0b"
      },
      "execution_count": 7,
      "outputs": [
        {
          "output_type": "display_data",
          "data": {
            "text/plain": [
              "<Figure size 640x480 with 1 Axes>"
            ],
            "image/png": "[encoded data removed]"
          },
          "metadata": {}
        }
      ]
    },
    {
      "cell_type": "code",
      "source": [
        "# TODO: plot 3rd training example\n",
        "plt.imshow(train_images[2])\n",
        "plt.title(f\"Label: {train_labels[2]}\")\n",
        "plt.show()"
      ],
      "metadata": {
        "id": "ILzXZzXwe5jw",
        "colab": {
          "base_uri": "https://localhost:8080/",
          "height": 452
        },
        "outputId": "202fda7b-cfac-4846-8e3e-a3285baf9065"
      },
      "execution_count": 8,
      "outputs": [
        {
          "output_type": "display_data",
          "data": {
            "text/plain": [
              "<Figure size 640x480 with 1 Axes>"
            ],
            "image/png": "[encoded data removed]"
          },
          "metadata": {}
        }
      ]
    },
    {
      "cell_type": "markdown",
      "metadata": {
        "id": "BgV3Uyhb7BBX"
      },
      "source": [
        "### Define Model\n",
        "\n",
        "It's now time to define your CNN. Experient with different no. of layers enough to get above 85% training accuracy and above 70% validation accuracy!\n",
        "\n",
        "***Hint:*** your model may want to learn some high level features and then classify them i.e., first define Conv2D and MaxPooling2D layers followed by Dense layers."
      ]
    },
    {
      "cell_type": "code",
      "execution_count": 9,
      "metadata": {
        "id": "law2hNzdVA16"
      },
      "outputs": [],
      "source": [
        "# TODO: Define your model layers!\n",
        "\n",
        "model = models.Sequential([\n",
        "    # First convolutional block\n",
        "    layers.Conv2D(32, (3, 3), activation='relu', input_shape=(32, 32, 3)),\n",
        "    layers.MaxPooling2D((2, 2)),\n",
        "\n",
        "    # Second convolutional block\n",
        "    layers.Conv2D(64, (3, 3), activation='relu'),\n",
        "    layers.MaxPooling2D((2, 2)),\n",
        "\n",
        "    # Third convolutional block\n",
        "    layers.Conv2D(128, (3, 3), activation='relu'),\n",
        "\n",
        "    # Transition from convolutional blocks to dense layers\n",
        "    layers.Flatten(),\n",
        "\n",
        "    # First dense layer\n",
        "    layers.Dense(128, activation='relu'),\n",
        "\n",
        "    # Second dense layer (output layer)\n",
        "    layers.Dense(10, activation='softmax')\n",
        "    ])"
      ]
    },
    {
      "cell_type": "markdown",
      "metadata": {
        "id": "nJSB1Tpv7BBY"
      },
      "source": [
        "Define an appropriate loss function and optimizer. Then compile your model!"
      ]
    },
    {
      "cell_type": "code",
      "source": [
        "# TODO: Define the loss function and optimizer and compile the model\n",
        "model.compile(optimizer='adam',\n",
        "              loss='sparse_categorical_crossentropy',\n",
        "              metrics=['accuracy'])"
      ],
      "metadata": {
        "id": "gF2BAOQPgiIS"
      },
      "execution_count": 10,
      "outputs": []
    },
    {
      "cell_type": "markdown",
      "source": [
        "### Train Model\n",
        "\n",
        "Now train your model for a fixed number of epochs. You can experiment with this hyperparameter (NUM_EPOCHS) to get the desired accuracy (above 85% training accuracy and above 70% validation accuracy)"
      ],
      "metadata": {
        "id": "Cn9Z5H16ia4H"
      }
    },
    {
      "cell_type": "code",
      "execution_count": 11,
      "metadata": {
        "id": "Dxq2JU7dVIEX",
        "colab": {
          "base_uri": "https://localhost:8080/"
        },
        "outputId": "6fda1b77-d392-41d8-8455-d2825d681bb2"
      },
      "outputs": [
        {
          "output_type": "stream",
          "name": "stdout",
          "text": [
            "Epoch 1/5\n",
            "1563/1563 [==============================] - 22s 6ms/step - loss: 1.4490 - accuracy: 0.4720 - val_loss: 1.1732 - val_accuracy: 0.5840\n",
            "Epoch 2/5\n",
            "1563/1563 [==============================] - 9s 6ms/step - loss: 1.0622 - accuracy: 0.6267 - val_loss: 1.0035 - val_accuracy: 0.6547\n",
            "Epoch 3/5\n",
            "1563/1563 [==============================] - 9s 6ms/step - loss: 0.8950 - accuracy: 0.6852 - val_loss: 0.9161 - val_accuracy: 0.6801\n",
            "Epoch 4/5\n",
            "1563/1563 [==============================] - 8s 5ms/step - loss: 0.7811 - accuracy: 0.7254 - val_loss: 0.8757 - val_accuracy: 0.6917\n",
            "Epoch 5/5\n",
            "1563/1563 [==============================] - 9s 5ms/step - loss: 0.6883 - accuracy: 0.7587 - val_loss: 0.8018 - val_accuracy: 0.7279\n"
          ]
        }
      ],
      "source": [
        "NUM_EPOCHS = 5\n",
        "\n",
        "\n",
        "# Fit the model\n",
        "history = model.fit(train_images, train_labels, epochs=NUM_EPOCHS,\n",
        "                    validation_data=(test_images, test_labels))\n",
        "\n"
      ]
    },
    {
      "cell_type": "markdown",
      "source": [
        "### Plot Accuracy vs Epochs\n",
        "\n",
        "Finally, plot a single graph of both training and test (validation) accuracies vs Epochs. Be sure to include a legend and x & y axis labels.\n",
        "\n",
        "\n",
        "***Hint1:*** Use information stored in 'history'.\n",
        "\n",
        "***Hint2:*** Use plt.plot()"
      ],
      "metadata": {
        "id": "8-QSklokn6F7"
      }
    },
    {
      "cell_type": "code",
      "source": [
        "# TODO: Plot train and test (validation) accuracies vs Epochs on a single plot\n",
        "\n",
        "# Plotting training and validation accuracies\n",
        "plt.figure()\n",
        "plt.plot(history.history['accuracy'], label='Training Accuracy')\n",
        "plt.plot(history.history['val_accuracy'], label='Validation Accuracy')\n",
        "plt.title('Training and Validation Accuracy')\n",
        "plt.xlabel('Epoch')\n",
        "plt.ylabel('Accuracy')\n",
        "plt.legend()\n",
        "plt.show()\n"
      ],
      "metadata": {
        "id": "bNGS6qpxjgff",
        "colab": {
          "base_uri": "https://localhost:8080/",
          "height": 472
        },
        "outputId": "60238cc4-f694-4718-d497-ed709dcac075"
      },
      "execution_count": 12,
      "outputs": [
        {
          "output_type": "display_data",
          "data": {
            "text/plain": [
              "<Figure size 640x480 with 1 Axes>"
            ],
            "image/png": "[encoded data removed]"
          },
          "metadata": {}
        }
      ]
    },
    {
      "cell_type": "markdown",
      "metadata": {
        "id": "ktqTCGHJw-ws"
      },
      "source": [
        "# 2. Bean Disease Classifier\n",
        "For this section of the assignment, you'll take what you've learned so far and build a classifier for bean diseases. You'll be provided with training and validation data of images taken of bean plants in Uganda. These images show healthy bean leaves as well as 2 types of common disease: bean rust and angular leaf spots. Your job will be to build a neural network that can tell the difference between the healthy and diseased leaves.\n",
        "\n",
        "We start by setting up the problem for you."
      ]
    },
    {
      "cell_type": "code",
      "execution_count": 13,
      "metadata": {
        "id": "wmnkg6vGbX1t",
        "colab": {
          "base_uri": "https://localhost:8080/"
        },
        "outputId": "a75f42b9-ed5d-4ae7-a91c-4ce2f5b74a1e"
      },
      "outputs": [
        {
          "output_type": "stream",
          "name": "stdout",
          "text": [
            "Colab only includes TensorFlow 2.x; %tensorflow_version has no effect.\n"
          ]
        }
      ],
      "source": [
        "# Do not change this code\n",
        "try:\n",
        "  # %tensorflow_version only exists in Colab.\n",
        "  %tensorflow_version 2.x\n",
        "except Exception:\n",
        "  pass"
      ]
    },
    {
      "cell_type": "code",
      "source": [
        "import tensorflow as tf\n",
        "from tensorflow.keras import datasets, layers, models\n",
        "import matplotlib.pyplot as plt"
      ],
      "metadata": {
        "id": "xs4QMnDW8wc0"
      },
      "execution_count": 14,
      "outputs": []
    },
    {
      "cell_type": "markdown",
      "source": [
        "### Load Dataset"
      ],
      "metadata": {
        "id": "QpiG2poPpz1J"
      }
    },
    {
      "cell_type": "code",
      "source": [
        "# Do not change this code\n",
        "!pip install --upgrade --no-cache-dir gdown"
      ],
      "metadata": {
        "id": "lRV-f1DSwwiC",
        "colab": {
          "base_uri": "https://localhost:8080/"
        },
        "outputId": "37229782-b4c0-4c0b-9129-ea13f15b7c6e"
      },
      "execution_count": 15,
      "outputs": [
        {
          "output_type": "stream",
          "name": "stdout",
          "text": [
            "Requirement already satisfied: gdown in /usr/local/lib/python3.10/dist-packages (4.6.6)\n",
            "Collecting gdown\n",
            "  Downloading gdown-4.7.1-py3-none-any.whl (15 kB)\n",
            "Requirement already satisfied: filelock in /usr/local/lib/python3.10/dist-packages (from gdown) (3.12.2)\n",
            "Requirement already satisfied: requests[socks] in /usr/local/lib/python3.10/dist-packages (from gdown) (2.31.0)\n",
            "Requirement already satisfied: six in /usr/local/lib/python3.10/dist-packages (from gdown) (1.16.0)\n",
            "Requirement already satisfied: tqdm in /usr/local/lib/python3.10/dist-packages (from gdown) (4.66.1)\n",
            "Requirement already satisfied: beautifulsoup4 in /usr/local/lib/python3.10/dist-packages (from gdown) (4.11.2)\n",
            "Requirement already satisfied: soupsieve>1.2 in /usr/local/lib/python3.10/dist-packages (from beautifulsoup4->gdown) (2.5)\n",
            "Requirement already satisfied: charset-normalizer<4,>=2 in /usr/local/lib/python3.10/dist-packages (from requests[socks]->gdown) (3.2.0)\n",
            "Requirement already satisfied: idna<4,>=2.5 in /usr/local/lib/python3.10/dist-packages (from requests[socks]->gdown) (3.4)\n",
            "Requirement already satisfied: urllib3<3,>=1.21.1 in /usr/local/lib/python3.10/dist-packages (from requests[socks]->gdown) (2.0.4)\n",
            "Requirement already satisfied: certifi>=2017.4.17 in /usr/local/lib/python3.10/dist-packages (from requests[socks]->gdown) (2023.7.22)\n",
            "Requirement already satisfied: PySocks!=1.5.7,>=1.5.6 in /usr/local/lib/python3.10/dist-packages (from requests[socks]->gdown) (1.7.1)\n",
            "Installing collected packages: gdown\n",
            "  Attempting uninstall: gdown\n",
            "    Found existing installation: gdown 4.6.6\n",
            "    Uninstalling gdown-4.6.6:\n",
            "      Successfully uninstalled gdown-4.6.6\n",
            "Successfully installed gdown-4.7.1\n"
          ]
        }
      ]
    },
    {
      "cell_type": "code",
      "execution_count": 16,
      "metadata": {
        "id": "njf4YhwFb6hW",
        "colab": {
          "base_uri": "https://localhost:8080/"
        },
        "outputId": "26208e8c-ec3c-47a8-a56f-e68e166e02a4"
      },
      "outputs": [
        {
          "output_type": "stream",
          "name": "stdout",
          "text": [
            "Downloading...\n",
            "From: https://huggingface.co/datasets/beans/resolve/main/data/train.zip\n",
            "To: /tmp/train.zip\n",
            "100% 144M/144M [00:00<00:00, 214MB/s]\n",
            "Downloading...\n",
            "From: https://huggingface.co/datasets/beans/resolve/main/data/validation.zip\n",
            "To: /tmp/validation.zip\n",
            "100% 18.5M/18.5M [00:00<00:00, 47.1MB/s]\n",
            "Downloading...\n",
            "From: https://huggingface.co/datasets/beans/resolve/main/data/test.zip\n",
            "To: /tmp/test.zip\n",
            "100% 17.7M/17.7M [00:00<00:00, 99.6MB/s]\n"
          ]
        }
      ],
      "source": [
        "# Do not change this code\n",
        "!gdown \"https://huggingface.co/datasets/beans/resolve/main/data/train.zip\" -O /tmp/train.zip\n",
        "!gdown \"https://huggingface.co/datasets/beans/resolve/main/data/validation.zip\" -O /tmp/validation.zip\n",
        "!gdown \"https://huggingface.co/datasets/beans/resolve/main/data/test.zip\" -O /tmp/test.zip"
      ]
    },
    {
      "cell_type": "markdown",
      "source": [
        "The .zip files are extracted and loaded into three directories - train, validation, and test. Each of them further have three directories each representing the 3 classes.\n",
        "\n",
        "You can find them in the **tmp/** directory in the files tab on the left."
      ],
      "metadata": {
        "id": "HV4LbpWqsism"
      }
    },
    {
      "cell_type": "code",
      "execution_count": 17,
      "metadata": {
        "id": "KscpTrSWcK1T"
      },
      "outputs": [],
      "source": [
        "# Do not change this code\n",
        "import os\n",
        "import zipfile\n",
        "\n",
        "local_zip = '/tmp/train.zip'\n",
        "zip_ref = zipfile.ZipFile(local_zip, 'r')\n",
        "zip_ref.extractall('/tmp')\n",
        "local_zip = '/tmp/validation.zip'\n",
        "zip_ref = zipfile.ZipFile(local_zip, 'r')\n",
        "zip_ref.extractall('/tmp')\n",
        "local_zip = '/tmp/test.zip'\n",
        "zip_ref = zipfile.ZipFile(local_zip, 'r')\n",
        "zip_ref.extractall('/tmp')\n",
        "zip_ref.close()"
      ]
    },
    {
      "cell_type": "markdown",
      "source": [
        "### Display example images\n",
        "\n",
        "Visualize some training examples from each of the three classes. Use the below defined function `show_img()` to plot an example image of the *angular_leaf_spot*, *bean_rust*, and *healthy* classes from the train directory.\n",
        "\n",
        "The required data can be found in the tmp/ folder under Files on the left tab.\n"
      ],
      "metadata": {
        "id": "5pAKLwsF1YxN"
      }
    },
    {
      "cell_type": "code",
      "source": [
        "import matplotlib.pyplot as plt\n",
        "import matplotlib.image as mpimg\n",
        "\n",
        "def show_img(path, file_name):\n",
        "    image = mpimg.imread(path + file_name)\n",
        "    plt.imshow(image)\n",
        "    plt.show()"
      ],
      "metadata": {
        "id": "XCagxvrJ1id9"
      },
      "execution_count": 18,
      "outputs": []
    },
    {
      "cell_type": "markdown",
      "source": [
        "Plot an example from the ***angular_leaf_spot*** class.\n",
        "\n",
        "\n",
        "***Hint:*** You can find the path of the required directory by right-clicking on the three vertical dots and choosing 'Copy path' (hover the cursor over the directory)"
      ],
      "metadata": {
        "id": "3951SBj33JcD"
      }
    },
    {
      "cell_type": "code",
      "source": [
        "# TODO - Define path and filename and display a training example\n"
      ],
      "metadata": {
        "id": "BSPX76Us3aX4"
      },
      "execution_count": null,
      "outputs": []
    },
    {
      "cell_type": "markdown",
      "source": [
        "Plot an example from the ***bean_rust*** class."
      ],
      "metadata": {
        "id": "o5GJLZaX4kqL"
      }
    },
    {
      "cell_type": "code",
      "source": [
        "# TODO - Define path and filename and display a training example\n"
      ],
      "metadata": {
        "id": "vJdcB1WB4GC2"
      },
      "execution_count": null,
      "outputs": []
    },
    {
      "cell_type": "markdown",
      "source": [
        "Plot an example from the ***healthy*** class."
      ],
      "metadata": {
        "id": "T8U35DAU4qRx"
      }
    },
    {
      "cell_type": "code",
      "source": [
        "# TODO - Define path and filename and display a training example\n"
      ],
      "metadata": {
        "id": "CI7hP5oV4WMd"
      },
      "execution_count": null,
      "outputs": []
    },
    {
      "cell_type": "markdown",
      "metadata": {
        "id": "5R0WEYIitNwI"
      },
      "source": [
        "### Define Generator to include Image Augmentation\n",
        "\n",
        "Define a generator (```ImageDataGenerator```) to process the train and validation data we have loaded in Colab so that our model can use it for training.\n",
        "\n",
        "Include the following Image Augmentation parametes for the **train data generator**.\n",
        "\n",
        "> rescale=1./255, rotation_range=20, width_shift_range=0.2, height_shift_range=0.2, shear_range=0.2, zoom_range=0.2, horizontal_flip=True, fill_mode='nearest'.\n",
        "\n",
        "Include the following Image Augmentation parametes for the **validation data generator**.\n",
        "\n",
        "> rescale=1./255\n",
        "\n"
      ]
    },
    {
      "cell_type": "code",
      "execution_count": null,
      "metadata": {
        "id": "jCiSd248caB4"
      },
      "outputs": [],
      "source": [
        "from tensorflow.keras.preprocessing.image import ImageDataGenerator\n",
        "\n",
        "\n",
        "train_datagen = # < YOUR CODE HERE >\n",
        "\n",
        "validation_datagen = # < YOUR CODE HERE >\n",
        "\n",
        "\n",
        "\n",
        "TRAIN_DIRECTORY_LOCATION = '/tmp/train/'\n",
        "VAL_DIRECTORY_LOCATION = '/tmp/validation/'\n",
        "TARGET_SIZE = target_size=(224, 224)\n",
        "CLASS_MODE = 'categorical'\n",
        "\n",
        "train_generator = train_datagen.flow_from_directory(\n",
        "    TRAIN_DIRECTORY_LOCATION,\n",
        "    target_size = TARGET_SIZE,\n",
        "    batch_size = 128,\n",
        "    class_mode = CLASS_MODE\n",
        ")\n",
        "\n",
        "validation_generator = # < YOUR CODE HERE >"
      ]
    },
    {
      "cell_type": "markdown",
      "metadata": {
        "id": "rjpkGy4RtNwJ"
      },
      "source": [
        "### Define Model\n",
        "\n",
        "Now its your turn to define a model to learn this data. Experient with different no. of layers enough to get above 75% training accuracy and above 70% validation accuracy! Like with the CIFAR-10 assignment, your model may want to learn some high level features and then classify them.\n",
        "\n",
        "**Note:** Be careful of the input shape of the first Conv2D layer.\n",
        "\n"
      ]
    },
    {
      "cell_type": "code",
      "execution_count": null,
      "metadata": {
        "id": "vrJt6YSDcqjX"
      },
      "outputs": [],
      "source": [
        "# TODO - Define CNN\n"
      ]
    },
    {
      "cell_type": "markdown",
      "source": [
        "Print your model summary!"
      ],
      "metadata": {
        "id": "sTfybG9hzzcP"
      }
    },
    {
      "cell_type": "code",
      "source": [
        "# TODO - Print a summary of your model\n"
      ],
      "metadata": {
        "id": "KIPWpjoPz3bA"
      },
      "execution_count": null,
      "outputs": []
    },
    {
      "cell_type": "markdown",
      "source": [
        "---\n",
        "\n",
        "\n",
        "**Question 3**: Why are the number of parameters learned in the MaxPooling layers =  0?\n",
        "\n",
        "**Answer:**\n",
        "\n",
        "---\n"
      ],
      "metadata": {
        "id": "SvSEdxxh0TsX"
      }
    },
    {
      "cell_type": "markdown",
      "metadata": {
        "id": "O6UOV_PztNwK"
      },
      "source": [
        "Pick an appropriate loss function and optimizer. Then compile your model! Don't forget to define your metric!"
      ]
    },
    {
      "cell_type": "code",
      "execution_count": null,
      "metadata": {
        "id": "nST6CyvCcy-2"
      },
      "outputs": [],
      "source": [
        "# TODO: Define Loss Function and Optimizer. Compile Model\n"
      ]
    },
    {
      "cell_type": "markdown",
      "metadata": {
        "id": "0EDyhXfgtNwL"
      },
      "source": [
        "### Train Model\n",
        "\n",
        "Now train your model for a fixed number of epochs. You can experiment with this hyperparameter (NUM_EPOCHS) to get the desired accuracy (above 75% training accuracy and above 70% validation accuracy)\n"
      ]
    },
    {
      "cell_type": "code",
      "execution_count": null,
      "metadata": {
        "id": "Q3iK9LX9deu2"
      },
      "outputs": [],
      "source": [
        "NUM_EPOCHS = 20\n",
        "\n",
        "\n",
        "history = model.fit(\n",
        "      train_generator,\n",
        "      epochs = NUM_EPOCHS,\n",
        "      verbose = 1,\n",
        "      validation_data = validation_generator)"
      ]
    },
    {
      "cell_type": "markdown",
      "source": [
        "### Plot Accuracy vs Epochs\n",
        "\n",
        "Finally, similar to section 1, plot a graph of both training and test (validation) accuracies vs Epochs. Include a legend and x & y axis labels.\n"
      ],
      "metadata": {
        "id": "KhnyKlv7Kbjb"
      }
    },
    {
      "cell_type": "code",
      "source": [
        "# TODO: Plot train and test accuracies vs Epochs\n"
      ],
      "metadata": {
        "id": "MCZhSRKXKW3S"
      },
      "execution_count": null,
      "outputs": []
    }
  ],
  "metadata": {
    "accelerator": "GPU",
    "colab": {
      "provenance": [],
      "include_colab_link": true
    },
    "kernelspec": {
      "display_name": "Python 3",
      "language": "python",
      "name": "python3"
    },
    "language_info": {
      "codemirror_mode": {
        "name": "ipython",
        "version": 3
      },
      "file_extension": ".py",
      "mimetype": "text/x-python",
      "name": "python",
      "nbconvert_exporter": "python",
      "pygments_lexer": "ipython3",
      "version": "3.6.9"
    }
  },
  "nbformat": 4,
  "nbformat_minor": 0
}