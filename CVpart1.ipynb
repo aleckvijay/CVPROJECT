{
 "cells": [
  {
   "cell_type": "code",
   "execution_count": null,
   "id": "cc2a5358",
   "metadata": {},
   "outputs": [],
   "source": [
    "pip install rarfile\n"
   ]
  },
  {
   "cell_type": "code",
   "execution_count": 8,
   "id": "bbf58993",
   "metadata": {},
   "outputs": [
    {
     "name": "stdout",
     "output_type": "stream",
     "text": [
      "[[ 366.  768.  711.  693.  672.  789.  821.  760.  848.]\n",
      " [ 677.  195.  776.  738.  873.  594.  650.  753.  711.]\n",
      " [ 659.  765.  310.  608.  767.  830.  790.  785.  697.]\n",
      " [ 640.  888.  605.  295.  588.  677.  893.  514.  616.]\n",
      " [ 662.  974.  655.  507.  164.  649.  759.  584.  690.]\n",
      " [ 660.  802.  711.  483.  540.  493.  789.  606.  704.]\n",
      " [ 542.  686.  717.  537.  630.  567.  605.  614.  708.]\n",
      " [ 583.  857.  746.  468.  563.  688.  826.  249.  743.]\n",
      " [ 827.  815.  650.  526.  765.  796. 1062.  701.  399.]]\n"
     ]
    }
   ],
   "source": [
    "import cv2\n",
    "import numpy as np\n",
    "import glob\n",
    "\n",
    "def read_images(folder_path):\n",
    "    images = []\n",
    "    for img_path in sorted(glob.glob(folder_path + \"/*.pgm\")):\n",
    "        img = cv2.imread(img_path, cv2.IMREAD_GRAYSCALE)\n",
    "        images.append(img)\n",
    "    return images\n",
    "\n",
    "\n",
    "def binarize_images(images, threshold=128):\n",
    "    binarized_images = []\n",
    "    for img in images:\n",
    "        _, binarized_img = cv2.threshold(img, threshold, 1, cv2.THRESH_BINARY)\n",
    "        binarized_images.append(binarized_img)\n",
    "    return binarized_images\n",
    "\n",
    "def hamming_distance(img1, img2):\n",
    "    return np.sum(img1 != img2)\n",
    "\n",
    "def create_score_matrix(probe_images, gallery_images):\n",
    "    num_probes = len(probe_images)\n",
    "    num_galleries = len(gallery_images)\n",
    "    score_matrix = np.zeros((num_probes, num_galleries))\n",
    "\n",
    "    for i, probe_image in enumerate(probe_images):\n",
    "        for j, gallery_image in enumerate(gallery_images):\n",
    "            score_matrix[i, j] = hamming_distance(probe_image, gallery_image)\n",
    "\n",
    "    return score_matrix\n",
    "\n",
    "\n",
    "gallery_folder = \"/users/vijay/downloads/GallerySet\"\n",
    "probe_folder = \"/users/vijay/downloads/ProbeSet\"\n",
    "\n",
    "gallery_images = read_images(gallery_folder)\n",
    "probe_images = read_images(probe_folder)\n",
    "\n",
    "binarized_gallery_images = binarize_images(gallery_images)\n",
    "binarized_probe_images = binarize_images(probe_images)\n",
    "\n",
    "score_matrix_A = generate_score_matrix(binarized_probe_images, binarized_gallery_images)\n",
    "\n",
    "print(score_matrix_A[0:9, 0:9])\n"
   ]
  },
  {
   "cell_type": "code",
   "execution_count": 9,
   "id": "e9aed266",
   "metadata": {},
   "outputs": [
    {
     "name": "stdout",
     "output_type": "stream",
     "text": [
      "Number of gallery images: 100\n",
      "Number of probe images: 100\n"
     ]
    }
   ],
   "source": [
    "gallery_images = read_images(gallery_folder)\n",
    "probe_images = read_images(probe_folder)\n",
    "\n",
    "print(\"Number of gallery images:\", len(gallery_images))\n",
    "print(\"Number of probe images:\", len(probe_images))\n"
   ]
  },
  {
   "cell_type": "code",
   "execution_count": 10,
   "id": "293880bc",
   "metadata": {},
   "outputs": [
    {
     "name": "stdout",
     "output_type": "stream",
     "text": [
      "Decidability index (d'): 2.91\n"
     ]
    }
   ],
   "source": [
    "def decidability_index(genuine_scores, imposter_scores):\n",
    "    genuine_mean = np.mean(genuine_scores)\n",
    "    imposter_mean = np.mean(imposter_scores)\n",
    "    genuine_std = np.std(genuine_scores)\n",
    "    imposter_std = np.std(imposter_scores)\n",
    "\n",
    "    d_prime = (np.sqrt(2) * abs(genuine_mean - imposter_mean)) / np.sqrt(genuine_std**2 + imposter_std**2)\n",
    "    return d_prime\n",
    "\n",
    "genuine_scores, imposter_scores = separate_scores(score_matrix_A)\n",
    "d_prime = decidability_index(genuine_scores, imposter_scores)\n",
    "\n",
    "print(\"Decidability index (d'): {:.2f}\".format(d_prime))\n"
   ]
  },
  {
   "cell_type": "code",
   "execution_count": null,
   "id": "9e846323",
   "metadata": {},
   "outputs": [],
   "source": []
  }
 ],
 "metadata": {
  "kernelspec": {
   "display_name": "Python 3 (ipykernel)",
   "language": "python",
   "name": "python3"
  },
  "language_info": {
   "codemirror_mode": {
    "name": "ipython",
    "version": 3
   },
   "file_extension": ".py",
   "mimetype": "text/x-python",
   "name": "python",
   "nbconvert_exporter": "python",
   "pygments_lexer": "ipython3",
   "version": "3.9.13"
  }
 },
 "nbformat": 4,
 "nbformat_minor": 5
}
